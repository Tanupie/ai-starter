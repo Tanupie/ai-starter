{
 "cells": [
  {
   "cell_type": "code",
   "execution_count": null,
   "id": "eca33341-7293-46a7-bbab-1069f0d3616d",
   "metadata": {},
   "outputs": [],
   "source": [
    "#%% md\n",
    "# ex1_scientific1\n",
    "## Nội dung bài\n",
    "Hiển thị ngẫu nhiên $N=50$ hình tròn:\n",
    "+ Tâm $c_i = (x_i,y_i)$ ngẫu nhiên với $x_i, y_i \\in \\left[0, 1 \\right]$\n",
    "+ Màu sắc $color_i$ ngẫu nhiên với $color_i \\in \\left[0, 1 \\right]$\n",
    "+ Diện tích $area_i = \\pi * r_i^2$ với sinh ngẫu nhiên $r_i \\in \\left[0, 1 \\right]$\n",
    "## Bài làm\n",
    "#%% md\n",
    "### Import thư viện\n",
    "#%%\n",
    "import numpy as np\n",
    "import matplotlib.pyplot as plt\n",
    "from IPython import display # hiển thị rich output\n",
    "#%% md\n",
    "### Sinh ngẫu nhiên hình tròn\n",
    "          #%%\n",
    "%time\n",
    "# generate randomly the center (x,y ) of circle, color, area\n",
    "N = 50\n",
    "x = np.random.rand(N)\n",
    "y = np.random.rand(N)\n",
    "colors = np.random.rand(N)\n",
    "area = np.pi * (15 * np.random.rand(N)) ** 2 # 0 to 15 point radii\n",
    "#%%\n",
    "# Mã kiểm tra dữ liệu\n",
    "print(f'+ x: len={len(x):d}, [{min(x):.2f}, {max(x):.2f}]: 10 samples [{x[0:10]}]')\n",
    "print(f'+ y: len={len(y):d}, [{min(y):.2f}, {max(y):.2f}]: 10 samples [{y[0:10]}]')\n",
    "print(f'+ colors: len={len(colors):d}, [{min(colors):.2f}, {max(colors):.2f}]: 10 samples\n",
    "[{colors[0:10]}]')\n",
    "print(f'+ area: len={len(area):d}, [{min(area):.2f}, {max(area):.2f}]: 10 samples\n",
    "[{area[0:10]}]')\n",
    "#%% md\n",
    "### Hiển thị đồ thị\n",
    "#%%\n",
    "%matplotlib inline\n",
    "plt.scatter(x, y, s=area, c=colors, alpha=0.5)\n",
    "plt.show()\n",
    "#%% md\n",
    "## Kết thúc"
   ]
  }
 ],
 "metadata": {
  "kernelspec": {
   "display_name": "Python 3 (ipykernel)",
   "language": "python",
   "name": "python3"
  },
  "language_info": {
   "codemirror_mode": {
    "name": "ipython",
    "version": 3
   },
   "file_extension": ".py",
   "mimetype": "text/x-python",
   "name": "python",
   "nbconvert_exporter": "python",
   "pygments_lexer": "ipython3",
   "version": "3.12.1"
  }
 },
 "nbformat": 4,
 "nbformat_minor": 5
}
